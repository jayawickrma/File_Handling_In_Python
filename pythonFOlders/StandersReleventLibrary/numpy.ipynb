{
 "cells": [
  {
   "cell_type": "code",
   "execution_count": 3,
   "metadata": {},
   "outputs": [
    {
     "name": "stdout",
     "output_type": "stream",
     "text": [
      "6\n"
     ]
    }
   ],
   "source": [
    "import numpy as numpy\n",
    "\n",
    "array1 =numpy.array([[1,2,3],[4,5,6]])\n",
    "print(array1.size)"
   ]
  },
  {
   "cell_type": "code",
   "execution_count": 4,
   "metadata": {},
   "outputs": [
    {
     "name": "stdout",
     "output_type": "stream",
     "text": [
      "(2, 3)\n"
     ]
    }
   ],
   "source": [
    "import numpy as numpy\n",
    "\n",
    "array2=numpy.array([[12,13,14],[15,16,17]])\n",
    "print(array2.shape)"
   ]
  },
  {
   "cell_type": "code",
   "execution_count": 8,
   "metadata": {},
   "outputs": [
    {
     "name": "stdout",
     "output_type": "stream",
     "text": [
      "(2, 2, 3)\n",
      "int64\n"
     ]
    }
   ],
   "source": [
    "array3=numpy.array([[[1,2,3],[4,5,6]],[[1,2,3],[4,5,6]]])\n",
    "print(array3.shape)\n",
    "print(array3.dtype)"
   ]
  },
  {
   "cell_type": "code",
   "execution_count": 11,
   "metadata": {},
   "outputs": [
    {
     "name": "stdout",
     "output_type": "stream",
     "text": [
      "3\n"
     ]
    }
   ],
   "source": [
    "array =numpy.array([[[1,2],[3,4]],[[5,6],[7,8]]])\n",
    "print(array.ndim)  #arraytype output 3\n"
   ]
  },
  {
   "cell_type": "code",
   "execution_count": 13,
   "metadata": {},
   "outputs": [
    {
     "name": "stdout",
     "output_type": "stream",
     "text": [
      "8\n"
     ]
    }
   ],
   "source": [
    "array0=numpy.array([[1,2,3,4,5],[6,7,8,9,10]])\n",
    "print(array0[1,2])  #print the array index"
   ]
  },
  {
   "cell_type": "code",
   "execution_count": 22,
   "metadata": {},
   "outputs": [
    {
     "name": "stdout",
     "output_type": "stream",
     "text": [
      "9\n"
     ]
    }
   ],
   "source": [
    "# create a 2d array wich has diamension 4:5 which contains the numbers 1 to 20 perform the following on this array at 10 to 18 eleven multi by every element by \n",
    "# calculate the squar of each element\n",
    "array = numpy.array([[1,2,3,4,5],[6,7,8,9,10],[11,12,13,14,15],[16,17,18,19,20]])\n",
    "print(array[1,3])"
   ]
  },
  {
   "cell_type": "code",
   "execution_count": 23,
   "metadata": {},
   "outputs": [
    {
     "name": "stdout",
     "output_type": "stream",
     "text": [
      "[False False  True  True  True]\n"
     ]
    }
   ],
   "source": [
    "array=numpy.array([10,20,30,40,50])\n",
    "condition =array>25\n",
    "print(condition)"
   ]
  },
  {
   "cell_type": "code",
   "execution_count": 24,
   "metadata": {},
   "outputs": [
    {
     "name": "stdout",
     "output_type": "stream",
     "text": [
      "[30 40 50]\n"
     ]
    }
   ],
   "source": [
    "array=numpy.array([10,20,30,40,50])\n",
    "condition =array>25\n",
    "filterd=array[condition]\n",
    "print(filterd)"
   ]
  },
  {
   "cell_type": "code",
   "execution_count": 25,
   "metadata": {},
   "outputs": [
    {
     "name": "stdout",
     "output_type": "stream",
     "text": [
      "[30 40]\n"
     ]
    }
   ],
   "source": [
    "\n",
    "\n",
    "arr = numpy.array([10, 20, 30, 40, 50])\n",
    "filtered_arr = arr[(arr>25) & (arr < 50)]  # condition deka eka para chek krla thiynne meke\n",
    "print(filtered_arr)"
   ]
  },
  {
   "cell_type": "code",
   "execution_count": 26,
   "metadata": {},
   "outputs": [
    {
     "name": "stdout",
     "output_type": "stream",
     "text": [
      "[[0. 0. 0.]\n",
      " [0. 0. 0.]]\n"
     ]
    }
   ],
   "source": [
    "arr=numpy.zeros((2,3))\n",
    "print(arr)"
   ]
  },
  {
   "cell_type": "code",
   "execution_count": 27,
   "metadata": {},
   "outputs": [
    {
     "name": "stdout",
     "output_type": "stream",
     "text": [
      "[7 7 7 7]\n"
     ]
    }
   ],
   "source": [
    "array=numpy.full(4,7)\n",
    "print(array)"
   ]
  },
  {
   "cell_type": "code",
   "execution_count": 28,
   "metadata": {},
   "outputs": [
    {
     "name": "stdout",
     "output_type": "stream",
     "text": [
      "[[8 8 8]\n",
      " [8 8 8]]\n"
     ]
    }
   ],
   "source": [
    "array=numpy.full((2,3),8)\n",
    "print(array)"
   ]
  },
  {
   "cell_type": "code",
   "execution_count": 29,
   "metadata": {},
   "outputs": [
    {
     "name": "stdout",
     "output_type": "stream",
     "text": [
      "[[1.19043964e-311 8.73508062e-321 0.00000000e+000]\n",
      " [1.19230873e-311 0.00000000e+000 1.78019082e-306]]\n"
     ]
    }
   ],
   "source": [
    "array=numpy.empty((2,3))\n",
    "print(array)"
   ]
  },
  {
   "cell_type": "code",
   "execution_count": null,
   "metadata": {},
   "outputs": [
    {
     "name": "stdout",
     "output_type": "stream",
     "text": [
      "[array([False,  True, False,  True, False,  True, False,  True, False,\n",
      "        True, False,  True, False,  True, False,  True, False,  True,\n",
      "       False,  True])]\n"
     ]
    }
   ],
   "source": [
    "# create a 1d numpy array with values from 1 to 20 .use boolean index into extract all even numbers\n",
    "\n",
    "\n",
    "array1=numpy.array([1,2,3,4,5,6,7,8,9,10,11,12,13,14,15,16,17,18,19,20])\n",
    "filtred=[array1 % 2 == 0]\n",
    "print(filtred)"
   ]
  },
  {
   "cell_type": "code",
   "execution_count": 41,
   "metadata": {},
   "outputs": [
    {
     "name": "stdout",
     "output_type": "stream",
     "text": [
      "30\n",
      "[40 50]\n"
     ]
    }
   ],
   "source": [
    "# create a 1d numpy array with eements(10,20,30,40,50) use boolean index into extract all elements greater than the mean of the array \n",
    "import statistics\n",
    "\n",
    "array=numpy.array([10,20,30,40,50])\n",
    "means=statistics.mean(array)\n",
    "print(means)\n",
    "SD=array[(array>30)]\n",
    "print(SD)\n",
    "\n"
   ]
  }
 ],
 "metadata": {
  "kernelspec": {
   "display_name": "Python 3",
   "language": "python",
   "name": "python3"
  },
  "language_info": {
   "codemirror_mode": {
    "name": "ipython",
    "version": 3
   },
   "file_extension": ".py",
   "mimetype": "text/x-python",
   "name": "python",
   "nbconvert_exporter": "python",
   "pygments_lexer": "ipython3",
   "version": "3.13.0"
  }
 },
 "nbformat": 4,
 "nbformat_minor": 2
}
