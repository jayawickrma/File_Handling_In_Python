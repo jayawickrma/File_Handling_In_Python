{
 "cells": [
  {
   "cell_type": "code",
   "execution_count": 1,
   "metadata": {},
   "outputs": [
    {
     "name": "stdout",
     "output_type": "stream",
     "text": [
      "      name  age\n",
      "0    alice   25\n",
      "1      bob   30\n",
      "2  charlie   35\n",
      "3    david   40\n"
     ]
    }
   ],
   "source": [
    "import pandas as pd\n",
    "data={\n",
    "    'name':['alice','bob','charlie','david'],\n",
    "    'age':[25,30,35,40]\n",
    "}\n",
    "df=pd.DataFrame(data)\n",
    "print(df)"
   ]
  },
  {
   "cell_type": "code",
   "execution_count": 2,
   "metadata": {},
   "outputs": [
    {
     "name": "stdout",
     "output_type": "stream",
     "text": [
      "      calories  duration\n",
      "day1       420        50\n",
      "day2       456        60\n",
      "day3       890        70\n"
     ]
    }
   ],
   "source": [
    "data = {\n",
    "    \"calories\":[420,456,890],\n",
    "    \"duration\":[50,60,70]\n",
    "}\n",
    "df=pd.DataFrame(data,index = [\"day1\",\"day2\",\"day3\"])\n",
    "print(df)"
   ]
  },
  {
   "cell_type": "code",
   "execution_count": 5,
   "metadata": {},
   "outputs": [
    {
     "name": "stdout",
     "output_type": "stream",
     "text": [
      "Data with Total Revenue:\n",
      "    Order ID Product  Quantity  Unit Price  Total Revenue\n",
      "0       101       A         2          50            100\n",
      "1       102       B         1         100            100\n",
      "2       103       A         4          50            200\n",
      "3       104       C         5          20            100\n",
      "\n",
      "Product with the Highest Total Sales:\n",
      "Product            A\n",
      "Total Revenue    300\n",
      "Name: 0, dtype: object\n",
      "\n",
      "Best-Selling Product by Quantity:\n",
      "Product     A\n",
      "Quantity    6\n",
      "Name: 0, dtype: object\n"
     ]
    }
   ],
   "source": [
    "# your the data analic the compant abou table contsing service data your task is the analice the data using pythion and pands to answer sume busness quwstion \n",
    "# calculate the protle the \n",
    "#  add the new colums total revenew to store the total revelo the foe each order \n",
    "# identyfy th r bsset element \n",
    "# find proudut with the hirset total salfe\n",
    "\n",
    "import pandas as pd\n",
    "\n",
    "data = {\n",
    "    \"Order ID\": [101, 102, 103, 104],\n",
    "    \"Product\": [\"A\", \"B\", \"A\", \"C\"],\n",
    "    \"Quantity\": [2, 1, 4, 5],\n",
    "    \"Unit Price\": [50, 100, 50, 20]\n",
    "}\n",
    "df = pd.DataFrame(data)\n",
    "\n",
    "\n",
    "df[\"Total Revenue\"] = df[\"Quantity\"] * df[\"Unit Price\"]\n",
    "\n",
    "\n",
    "product_sales = df.groupby(\"Product\")[\"Total Revenue\"].sum().reset_index()\n",
    "highest_sales_product = product_sales.loc[product_sales[\"Total Revenue\"].idxmax()]\n",
    "\n",
    "best_selling_product = df.groupby(\"Product\")[\"Quantity\"].sum().reset_index()\n",
    "best_selling_product_name = best_selling_product.loc[best_selling_product[\"Quantity\"].idxmax()]\n",
    "\n",
    "\n",
    "print(\"Data with Total Revenue:\\n\", df)\n",
    "print(\"\\nProduct with the Highest Total Sales:\")\n",
    "print(highest_sales_product)\n",
    "\n",
    "print(\"\\nBest-Selling Product by Quantity:\")\n",
    "print(best_selling_product_name)\n"
   ]
  }
 ],
 "metadata": {
  "kernelspec": {
   "display_name": "Python 3",
   "language": "python",
   "name": "python3"
  },
  "language_info": {
   "codemirror_mode": {
    "name": "ipython",
    "version": 3
   },
   "file_extension": ".py",
   "mimetype": "text/x-python",
   "name": "python",
   "nbconvert_exporter": "python",
   "pygments_lexer": "ipython3",
   "version": "3.13.0"
  }
 },
 "nbformat": 4,
 "nbformat_minor": 2
}
