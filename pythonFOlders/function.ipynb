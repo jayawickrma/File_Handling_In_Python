{
 "cells": [
  {
   "cell_type": "code",
   "execution_count": 1,
   "metadata": {},
   "outputs": [
    {
     "name": "stdout",
     "output_type": "stream",
     "text": [
      "10\n"
     ]
    }
   ],
   "source": [
    "def add(x,y):\n",
    "    return x+y\n",
    "def Calculate(func,x,y):\n",
    "    return func(x,y)\n",
    "\n",
    "result =Calculate(add,4,6)\n",
    "print(result)"
   ]
  },
  {
   "cell_type": "code",
   "execution_count": 5,
   "metadata": {},
   "outputs": [
    {
     "name": "stdout",
     "output_type": "stream",
     "text": [
      "i got decorated\n",
      "Im ordinary\n"
     ]
    }
   ],
   "source": [
    "def makePretty(func):\n",
    "    def inner():\n",
    "        print(\"i got decorated\")\n",
    "        func()\n",
    "    return inner\n",
    "\n",
    "def ordinary():\n",
    "    print(\"Im ordinary\")\n",
    "\n",
    "get_decorated=makePretty(ordinary)\n",
    "get_decorated()"
   ]
  },
  {
   "cell_type": "code",
   "execution_count": null,
   "metadata": {},
   "outputs": [
    {
     "name": "stdout",
     "output_type": "stream",
     "text": [
      "i got decorated\n",
      "Im ordinary\n"
     ]
    }
   ],
   "source": [
    "def makePretty(func):\n",
    "    def inner():\n",
    "        print(\"i got decorated\")\n",
    "        func()\n",
    "    return inner\n",
    "@makePretty   #decorate by @makePretty function makePretty is the function in this code \n",
    "def ordinary():\n",
    "    print(\"Im ordinary\")\n",
    "\n",
    "ordinary()"
   ]
  },
  {
   "cell_type": "code",
   "execution_count": 9,
   "metadata": {},
   "outputs": [
    {
     "ename": "IndentationError",
     "evalue": "expected an indented block after function definition on line 12 (1101603129.py, line 13)",
     "output_type": "error",
     "traceback": [
      "\u001b[1;36m  Cell \u001b[1;32mIn[9], line 13\u001b[1;36m\u001b[0m\n\u001b[1;33m    def wrapper(number):\u001b[0m\n\u001b[1;37m    ^\u001b[0m\n\u001b[1;31mIndentationError\u001b[0m\u001b[1;31m:\u001b[0m expected an indented block after function definition on line 12\n"
     ]
    }
   ],
   "source": [
    "    #write a python programme with the following requirenment\n",
    "        #create the decorater and check positive\n",
    "            #ckeck if the input flow function is the positive number \n",
    "            #if the input is notpositive print a message like \"input must be a positive number\"\n",
    "        #use this decorator on a function calculate squre root that\n",
    "            #phase one number as input \n",
    "            #return the square number of the input number \n",
    "\n",
    "\n",
    "import math  \n",
    "\n",
    "def check_positive(func):\n",
    "    def wrapper(number):\n",
    "        if number < 0:\n",
    "            print(\"You should input a positive number.\")\n",
    "            return None\n",
    "        return func(number)\n",
    "    return wrapper\n",
    "\n",
    "\n",
    "@check_positive\n",
    "def calculate_square_root(number):\n",
    "    return math.sqrt(number)\n",
    "\n",
    "\n",
    "try:\n",
    "\n",
    "    num = float(input(\"Enter a number to calculate its square root: \"))\n",
    "    result = calculate_square_root(num)\n",
    "    \n",
    "  \n",
    "    if result is not None:\n",
    "        print(f\"The square root of {num} is {result:.2f}\")\n",
    "except ValueError:\n",
    "    print(\"Please enter a valid numeric input.\")\n"
   ]
  }
 ],
 "metadata": {
  "kernelspec": {
   "display_name": "Python 3",
   "language": "python",
   "name": "python3"
  },
  "language_info": {
   "codemirror_mode": {
    "name": "ipython",
    "version": 3
   },
   "file_extension": ".py",
   "mimetype": "text/x-python",
   "name": "python",
   "nbconvert_exporter": "python",
   "pygments_lexer": "ipython3",
   "version": "3.13.0"
  }
 },
 "nbformat": 4,
 "nbformat_minor": 2
}
